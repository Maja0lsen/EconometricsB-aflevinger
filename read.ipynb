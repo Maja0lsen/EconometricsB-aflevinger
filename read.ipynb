{
 "cells": [
  {
   "cell_type": "markdown",
   "metadata": {},
   "source": [
    "# Production Technology\n",
    "\n",
    "The dataset contains `N = 441` firms observed over `T = 12` years, 1968-1979. There variables are: \n",
    "* `lcap`: Log of capital stock, $k_{it}$ \n",
    "* `lemp`: log of employment, $\\ell_{it}$ \n",
    "* `ldsa`: log of deflated sales, $y_{it}$\n",
    "* `year`: the calendar year of the observation, `year` $ = 1968, ..., 1979$, \n",
    "* `firmid`: anonymized indicator variable for the firm, $i = 1, ..., N$, with $N=441$. "
   ]
  },
  {
   "cell_type": "code",
   "execution_count": 42,
   "metadata": {},
   "outputs": [],
   "source": [
    "import pandas as pd \n",
    "import numpy as np\n",
    "import seaborn as sns\n",
    "import LinearModelsPS2_post as lm\n",
    "import scipy\n",
    "from tabulate import tabulate\n",
    "from scipy.stats import chi2"
   ]
  },
  {
   "cell_type": "code",
   "execution_count": 43,
   "metadata": {},
   "outputs": [
    {
     "name": "stdout",
     "output_type": "stream",
     "text": [
      "      firmid  year      lcap      lemp      ldsa\n",
      "0          1  1968  0.998602 -0.242185  0.349053\n",
      "1          1  1969  0.925214 -0.241278  0.312492\n",
      "2          1  1970  0.879616 -0.265134  0.347566\n",
      "12         2  1968 -0.069588 -0.323021 -0.945831\n",
      "13         2  1969 -0.056724 -0.358177 -1.143830\n",
      "...      ...   ...       ...       ...       ...\n",
      "5269     440  1969 -0.228757  0.031242 -0.246864\n",
      "5270     440  1970 -0.038354  0.062158 -0.345710\n",
      "5280     441  1968 -1.618390 -1.944210 -2.032340\n",
      "5281     441  1969 -1.635030 -1.856580 -2.011210\n",
      "5282     441  1970 -1.454890 -1.538940 -1.371550\n",
      "\n",
      "[1323 rows x 5 columns]\n"
     ]
    }
   ],
   "source": [
    "dat = pd.read_csv('firms.csv')\n",
    "#Modify x to only use the first 3 time periods\n",
    "dat = dat[dat[\"year\"] < 1971]\n",
    "print(dat)"
   ]
  },
  {
   "cell_type": "code",
   "execution_count": 44,
   "metadata": {},
   "outputs": [
    {
     "data": {
      "text/html": [
       "<div>\n",
       "<style scoped>\n",
       "    .dataframe tbody tr th:only-of-type {\n",
       "        vertical-align: middle;\n",
       "    }\n",
       "\n",
       "    .dataframe tbody tr th {\n",
       "        vertical-align: top;\n",
       "    }\n",
       "\n",
       "    .dataframe thead th {\n",
       "        text-align: right;\n",
       "    }\n",
       "</style>\n",
       "<table border=\"1\" class=\"dataframe\">\n",
       "  <thead>\n",
       "    <tr style=\"text-align: right;\">\n",
       "      <th></th>\n",
       "      <th>firmid</th>\n",
       "      <th>year</th>\n",
       "      <th>lcap</th>\n",
       "      <th>lemp</th>\n",
       "      <th>ldsa</th>\n",
       "    </tr>\n",
       "  </thead>\n",
       "  <tbody>\n",
       "    <tr>\n",
       "      <th>2172</th>\n",
       "      <td>182</td>\n",
       "      <td>1968</td>\n",
       "      <td>-0.030846</td>\n",
       "      <td>0.113401</td>\n",
       "      <td>0.127840</td>\n",
       "    </tr>\n",
       "    <tr>\n",
       "      <th>2749</th>\n",
       "      <td>230</td>\n",
       "      <td>1969</td>\n",
       "      <td>1.058557</td>\n",
       "      <td>0.913652</td>\n",
       "      <td>1.125057</td>\n",
       "    </tr>\n",
       "    <tr>\n",
       "      <th>2857</th>\n",
       "      <td>239</td>\n",
       "      <td>1969</td>\n",
       "      <td>0.850656</td>\n",
       "      <td>1.088402</td>\n",
       "      <td>0.674252</td>\n",
       "    </tr>\n",
       "    <tr>\n",
       "      <th>1248</th>\n",
       "      <td>105</td>\n",
       "      <td>1968</td>\n",
       "      <td>-0.833326</td>\n",
       "      <td>-0.365975</td>\n",
       "      <td>-0.569296</td>\n",
       "    </tr>\n",
       "    <tr>\n",
       "      <th>3577</th>\n",
       "      <td>299</td>\n",
       "      <td>1969</td>\n",
       "      <td>-0.409519</td>\n",
       "      <td>-0.705167</td>\n",
       "      <td>-0.546714</td>\n",
       "    </tr>\n",
       "  </tbody>\n",
       "</table>\n",
       "</div>"
      ],
      "text/plain": [
       "      firmid  year      lcap      lemp      ldsa\n",
       "2172     182  1968 -0.030846  0.113401  0.127840\n",
       "2749     230  1969  1.058557  0.913652  1.125057\n",
       "2857     239  1969  0.850656  1.088402  0.674252\n",
       "1248     105  1968 -0.833326 -0.365975 -0.569296\n",
       "3577     299  1969 -0.409519 -0.705167 -0.546714"
      ]
     },
     "execution_count": 44,
     "metadata": {},
     "output_type": "execute_result"
    }
   ],
   "source": [
    "dat.sample(5)"
   ]
  },
  {
   "cell_type": "code",
   "execution_count": 45,
   "metadata": {},
   "outputs": [
    {
     "data": {
      "text/plain": [
       "array([1968, 1969, 1970])"
      ]
     },
     "execution_count": 45,
     "metadata": {},
     "output_type": "execute_result"
    }
   ],
   "source": [
    "dat.year.unique()"
   ]
  },
  {
   "cell_type": "markdown",
   "metadata": {},
   "source": [
    "# Descriptives"
   ]
  },
  {
   "cell_type": "code",
   "execution_count": 46,
   "metadata": {},
   "outputs": [
    {
     "data": {
      "text/html": [
       "<div>\n",
       "<style scoped>\n",
       "    .dataframe tbody tr th:only-of-type {\n",
       "        vertical-align: middle;\n",
       "    }\n",
       "\n",
       "    .dataframe tbody tr th {\n",
       "        vertical-align: top;\n",
       "    }\n",
       "\n",
       "    .dataframe thead th {\n",
       "        text-align: right;\n",
       "    }\n",
       "</style>\n",
       "<table border=\"1\" class=\"dataframe\">\n",
       "  <thead>\n",
       "    <tr style=\"text-align: right;\">\n",
       "      <th></th>\n",
       "      <th>firmid</th>\n",
       "      <th>year</th>\n",
       "      <th>lcap</th>\n",
       "      <th>lemp</th>\n",
       "      <th>ldsa</th>\n",
       "    </tr>\n",
       "  </thead>\n",
       "  <tbody>\n",
       "    <tr>\n",
       "      <th>count</th>\n",
       "      <td>1323.000000</td>\n",
       "      <td>1323.000000</td>\n",
       "      <td>1.323000e+03</td>\n",
       "      <td>1.323000e+03</td>\n",
       "      <td>1.323000e+03</td>\n",
       "    </tr>\n",
       "    <tr>\n",
       "      <th>mean</th>\n",
       "      <td>221.000000</td>\n",
       "      <td>1969.000000</td>\n",
       "      <td>-3.432577e-08</td>\n",
       "      <td>5.291005e-09</td>\n",
       "      <td>3.253968e-08</td>\n",
       "    </tr>\n",
       "    <tr>\n",
       "      <th>std</th>\n",
       "      <td>127.353547</td>\n",
       "      <td>0.816805</td>\n",
       "      <td>1.367661e+00</td>\n",
       "      <td>1.212370e+00</td>\n",
       "      <td>1.238870e+00</td>\n",
       "    </tr>\n",
       "    <tr>\n",
       "      <th>min</th>\n",
       "      <td>1.000000</td>\n",
       "      <td>1968.000000</td>\n",
       "      <td>-3.864950e+00</td>\n",
       "      <td>-3.108660e+00</td>\n",
       "      <td>-3.433130e+00</td>\n",
       "    </tr>\n",
       "    <tr>\n",
       "      <th>25%</th>\n",
       "      <td>111.000000</td>\n",
       "      <td>1968.000000</td>\n",
       "      <td>-9.629080e-01</td>\n",
       "      <td>-8.435585e-01</td>\n",
       "      <td>-9.082370e-01</td>\n",
       "    </tr>\n",
       "    <tr>\n",
       "      <th>50%</th>\n",
       "      <td>221.000000</td>\n",
       "      <td>1969.000000</td>\n",
       "      <td>-1.016350e-01</td>\n",
       "      <td>-1.141760e-01</td>\n",
       "      <td>-1.142770e-01</td>\n",
       "    </tr>\n",
       "    <tr>\n",
       "      <th>75%</th>\n",
       "      <td>331.000000</td>\n",
       "      <td>1970.000000</td>\n",
       "      <td>9.708763e-01</td>\n",
       "      <td>8.067791e-01</td>\n",
       "      <td>8.648864e-01</td>\n",
       "    </tr>\n",
       "    <tr>\n",
       "      <th>max</th>\n",
       "      <td>441.000000</td>\n",
       "      <td>1970.000000</td>\n",
       "      <td>3.993508e+00</td>\n",
       "      <td>3.187258e+00</td>\n",
       "      <td>3.418170e+00</td>\n",
       "    </tr>\n",
       "  </tbody>\n",
       "</table>\n",
       "</div>"
      ],
      "text/plain": [
       "            firmid         year          lcap          lemp          ldsa\n",
       "count  1323.000000  1323.000000  1.323000e+03  1.323000e+03  1.323000e+03\n",
       "mean    221.000000  1969.000000 -3.432577e-08  5.291005e-09  3.253968e-08\n",
       "std     127.353547     0.816805  1.367661e+00  1.212370e+00  1.238870e+00\n",
       "min       1.000000  1968.000000 -3.864950e+00 -3.108660e+00 -3.433130e+00\n",
       "25%     111.000000  1968.000000 -9.629080e-01 -8.435585e-01 -9.082370e-01\n",
       "50%     221.000000  1969.000000 -1.016350e-01 -1.141760e-01 -1.142770e-01\n",
       "75%     331.000000  1970.000000  9.708763e-01  8.067791e-01  8.648864e-01\n",
       "max     441.000000  1970.000000  3.993508e+00  3.187258e+00  3.418170e+00"
      ]
     },
     "execution_count": 46,
     "metadata": {},
     "output_type": "execute_result"
    }
   ],
   "source": [
    "dat.describe()"
   ]
  },
  {
   "cell_type": "code",
   "execution_count": 47,
   "metadata": {},
   "outputs": [
    {
     "data": {
      "image/png": "[encoded data removed]",
      "text/plain": [
       "<Figure size 640x480 with 4 Axes>"
      ]
     },
     "metadata": {},
     "output_type": "display_data"
    }
   ],
   "source": [
    "dat[['lcap','lemp','ldsa']].hist();"
   ]
  },
  {
   "cell_type": "code",
   "execution_count": 48,
   "metadata": {},
   "outputs": [
    {
     "data": {
      "image/png": "[encoded data removed]",
      "text/plain": [
       "<Figure size 640x480 with 1 Axes>"
      ]
     },
     "metadata": {},
     "output_type": "display_data"
    }
   ],
   "source": [
    "sns.scatterplot(x='lemp', y='ldsa', data=dat); "
   ]
  },
  {
   "cell_type": "markdown",
   "metadata": {},
   "source": [
    "# Converting data to numpy format "
   ]
  },
  {
   "cell_type": "code",
   "execution_count": 49,
   "metadata": {},
   "outputs": [
    {
     "data": {
      "text/plain": [
       "(1323,)"
      ]
     },
     "execution_count": 49,
     "metadata": {},
     "output_type": "execute_result"
    }
   ],
   "source": [
    "dat.ldsa.values.shape"
   ]
  },
  {
   "cell_type": "code",
   "execution_count": 50,
   "metadata": {},
   "outputs": [
    {
     "name": "stdout",
     "output_type": "stream",
     "text": [
      "Data has N=441 and T=3\n"
     ]
    }
   ],
   "source": [
    "N = dat.firmid.unique().size\n",
    "T = dat.year.unique().size\n",
    "assert dat.shape[0] == N*T, f'Error: data is not a balanced panel'\n",
    "print(f'Data has N={N} and T={T}')"
   ]
  },
  {
   "cell_type": "markdown",
   "metadata": {},
   "source": [
    "Extract data from `pandas` to `numpy` arrays. "
   ]
  },
  {
   "cell_type": "code",
   "execution_count": 51,
   "metadata": {},
   "outputs": [],
   "source": [
    "y = dat.ldsa.values.reshape((N*T,1))\n",
    "\n",
    "ones = np.ones((N*T,1))\n",
    "l = dat.lemp.values.reshape((N*T,1))\n",
    "k = dat.lcap.values.reshape((N*T,1))\n",
    "X = np.hstack([ones, l, k])\n",
    "xlbl = [\"constant\", \"lcap\", \"lemp\"]\n",
    "ylbl = [\"ldsa\"]"
   ]
  },
  {
   "cell_type": "code",
   "execution_count": null,
   "metadata": {},
   "outputs": [
    {
     "name": "stdout",
     "output_type": "stream",
     "text": [
      "Pooled OLS\n",
      "Dependent variable: ['ldsa']\n",
      "\n",
      "             Beta       Se    t-values\n",
      "--------  -------  -------  ----------\n",
      "constant  0        0.01658     0\n",
      "lcap      0.68603  0.03481    19.71\n",
      "lemp      0.27681  0.03068     9.02351\n",
      "R² = 0.917\n",
      "σ² = 0.127\n",
      "Wald test statistic (OLS): 5936.234\n",
      "p-value (OLS): 0.000\n"
     ]
    }
   ],
   "source": [
    "# Estimating POLS with robust standard errors.\n",
    "estimation_OLS = lm.estimate(y, X, robust_se=True, T=T) #1. assumption: robust_se=True handles heteroskedasticity \n",
    "\n",
    "# Round estimated values to 3 decimals\n",
    "for key in [\"b_hat\", \"se\", \"t_values\"]:\n",
    "    estimation_OLS[key] = np.round(estimation_OLS[key], 5)\n",
    "\n",
    "lm.print_table((ylbl, xlbl), estimation_OLS, title=\"Pooled OLS\")\n",
    "\n",
    "# Wald test for H0: B_L + B_K = 1 (i.e., B_L + B_K - 1 = 0)\n",
    "C_OLS = np.array([[0, 1, 1]])       # Restriction matrix\n",
    "betas_OLS = estimation_OLS[\"b_hat\"] # Estimated coefficients\n",
    "cov_OLS = estimation_OLS[\"cov\"]     # Covariance matrix for the coefficients\n",
    "\n",
    "# Compute Wald test statistic\n",
    "wald_OLS = (C_OLS @ betas_OLS).T @ np.linalg.inv(C_OLS @ cov_OLS @ C_OLS.T) @ (C_OLS @ betas_OLS)\n",
    "\n",
    "# Compute p-value\n",
    "p_value_OLS = 1 - scipy.stats.chi2.cdf(wald_OLS, df=1)\n",
    "\n",
    "# Display results with 3 decimals\n",
    "print(f\"Wald test statistic (OLS): {wald_OLS[0][0]:.3f}\")\n",
    "print(f\"p-value (OLS): {p_value_OLS[0][0]:.3f}\")"
   ]
  },
  {
   "cell_type": "code",
   "execution_count": 53,
   "metadata": {},
   "outputs": [
    {
     "name": "stdout",
     "output_type": "stream",
     "text": [
      "FE\n",
      "Dependent variable: ['ldsa']\n",
      "\n",
      "           Beta         Se    t-values\n",
      "----  ---------  ---------  ----------\n",
      "lcap  0.600383   0.0496528    12.0916\n",
      "lemp  0.0502036  0.0476616     1.05333\n",
      "R² = 0.284\n",
      "σ² = 0.008\n",
      "Wald test statistic:  133.9693572960036\n",
      "p-value:  0.0\n"
     ]
    }
   ],
   "source": [
    "#FE estimation\n",
    "def demeaning_matrix(T):\n",
    "    Q_T = np.eye(T) - np.tile(1/T, (T, T))\n",
    "    return Q_T\n",
    "\n",
    "Q_T = demeaning_matrix(T)\n",
    "y_demean = lm.perm(Q_T, y)\n",
    "x_demean = lm.perm(Q_T, X)\n",
    "x_demean = x_demean[:, 1:]\n",
    "\n",
    "estimation_FE = lm.estimate(y_demean, x_demean, T=T, transform=\"fe\", robust_se=True)\n",
    "lm.print_table((ylbl, xlbl[1:]), estimation_FE, title=\"FE\")\n",
    "\n",
    "#Wald test for H_0: B_L+B_K=1 -> B_L+B_K-1=0\n",
    "C_FE = np.array([[1,1]])\n",
    "cov_m_FE = estimation_FE[\"cov\"]\n",
    "betas_FE = estimation_FE[\"b_hat\"]\n",
    "wald_FE = (C_FE @ betas_FE).T @ np.linalg.inv((C_FE @ cov_m_FE @ C_FE.T)) @ (C_FE @ betas_FE)\n",
    "\n",
    "p_value_FE = 1 - scipy.stats.chi2.cdf(wald_FE, 1)\n",
    "print(\"Wald test statistic: \", wald_FE[0][0])\n",
    "print(\"p-value: \", p_value_FE[0][0])"
   ]
  },
  {
   "cell_type": "code",
   "execution_count": 54,
   "metadata": {
    "scrolled": true
   },
   "outputs": [
    {
     "name": "stdout",
     "output_type": "stream",
     "text": [
      "FD\n",
      "Dependent variable: ['ldsa']\n",
      "\n",
      "           Beta         Se    t-values\n",
      "----  ---------  ---------  ----------\n",
      "lcap  0.550946   0.0497416   11.0762\n",
      "lemp  0.0381129  0.0457618    0.832854\n",
      "R² = 0.217\n",
      "σ² = 0.013\n",
      "Wald test statistic:  95.85643199259546\n",
      "p-value:  0.0\n"
     ]
    }
   ],
   "source": [
    "#FD Estimation\n",
    "def fd_matrix(T):\n",
    "    D_T = np.eye(T) - np.eye(T, k=-1)\n",
    "    D_T = D_T[1:]\n",
    "    return D_T\n",
    "\n",
    "D_T = fd_matrix(T)\n",
    "y_diff = lm.perm(D_T, y)\n",
    "x_diff = lm.perm(D_T, X)\n",
    "x_diff = x_diff[:, 1:]\n",
    "\n",
    "estimation_FD = lm.estimate(y_diff, x_diff, T=T-1, robust_se=True)\n",
    "lm.print_table((ylbl, xlbl[1:]), estimation_FD, title=\"FD\")\n",
    "\n",
    "#Wald test for H_0: B_L+B_K=1 -> B_L+B_K-1=0\n",
    "C_FD = np.array([[1,1]])\n",
    "cov_m_FD = estimation_FD[\"cov\"]\n",
    "betas_FD = estimation_FD[\"b_hat\"]\n",
    "wald_FD = (C_FD @ betas_FD).T @ np.linalg.inv((C_FD @ cov_m_FD @ C_FD.T)) @ (C_FD @ betas_FD)\n",
    "\n",
    "p_value_FD = 1 - scipy.stats.chi2.cdf(wald_FD, 1)\n",
    "print(\"Wald test statistic: \", wald_FD[0][0])\n",
    "print(\"p-value: \", p_value_FD[0][0])"
   ]
  },
  {
   "cell_type": "code",
   "execution_count": 55,
   "metadata": {},
   "outputs": [
    {
     "name": "stdout",
     "output_type": "stream",
     "text": [
      "BE\n",
      "Dependent variable: ['ldsa']\n",
      "\n",
      "                 Beta         Se      t-values\n",
      "--------  -----------  ---------  ------------\n",
      "constant  3.84491e-08  0.0166402   2.31061e-06\n",
      "lcap      0.685559     0.033388   20.5331\n",
      "lemp      0.277828     0.0295767   9.39348\n",
      "R² = 0.921\n",
      "σ² = 0.122\n"
     ]
    }
   ],
   "source": [
    "#RE Estimation\n",
    "#First doint the between estimation\n",
    "def mean_matrix(t):\n",
    "    return np.tile(1/t, (1, t))\n",
    "P_T = mean_matrix(T)\n",
    "y_mean_BE = lm.perm(P_T, y)\n",
    "x_mean_BE = lm.perm(P_T, X)\n",
    "\n",
    "estimation_BE = lm.estimate(\n",
    "    y_mean_BE, x_mean_BE, transform='be')\n",
    "\n",
    "lm.print_table((ylbl, xlbl), results=estimation_BE, title='BE')\n"
   ]
  },
  {
   "cell_type": "code",
   "execution_count": 56,
   "metadata": {},
   "outputs": [
    {
     "name": "stdout",
     "output_type": "stream",
     "text": [
      "0.851094086304058\n"
     ]
    }
   ],
   "source": [
    "#Calculating lambda\n",
    "sigma_u = estimation_FE['sigma2']\n",
    "sigma_c = estimation_BE['sigma2'] - sigma_u/T\n",
    "_lambda = 1 - np.sqrt(sigma_u/(sigma_u + T*sigma_c))\n",
    "print(_lambda)"
   ]
  },
  {
   "cell_type": "code",
   "execution_count": 57,
   "metadata": {},
   "outputs": [
    {
     "name": "stdout",
     "output_type": "stream",
     "text": [
      "RE\n",
      "Dependent variable: ['ldsa']\n",
      "\n",
      "                 Beta         Se      t-values\n",
      "--------  -----------  ---------  ------------\n",
      "constant  3.73826e-08  0.0169443   2.20621e-06\n",
      "lcap      0.691234     0.0234713  29.4502\n",
      "lemp      0.247635     0.0213645  11.5909\n",
      "R² = 0.797\n",
      "σ² = 0.008\n",
      "λ = 0.851\n",
      "Wald test statistic:  5177.746794005284\n",
      "p-value:  0.0\n"
     ]
    }
   ],
   "source": [
    "#Doing random effects\n",
    "C_t = np.eye(T) - _lambda*mean_matrix(T)\n",
    "x_re = lm.perm(C_t, X)\n",
    "y_re = lm.perm(C_t, y)\n",
    "estimation_RE = lm.estimate(y_re, x_re, transform='re', T=T)\n",
    "lm.print_table((ylbl, xlbl), results=estimation_RE, _lambda=_lambda,title='RE')\n",
    "\n",
    "#Wald test for H_0: B_L+B_K=1 -> B_L+B_K-1=0\n",
    "C_RE = np.array([[0,1,1]])\n",
    "cov_m_RE = estimation_RE[\"cov\"]\n",
    "betas_RE = estimation_RE[\"b_hat\"]\n",
    "wald_RE = (C_RE @ betas_RE).T @ np.linalg.inv((C_RE @ cov_m_RE @ C_RE.T)) @ (C_RE @ betas_RE)\n",
    "\n",
    "p_value_RE = 1 - scipy.stats.chi2.cdf(wald_RE, 1)\n",
    "print(\"Wald test statistic: \", wald_RE[0][0])\n",
    "print(\"p-value: \", p_value_RE[0][0])"
   ]
  },
  {
   "cell_type": "code",
   "execution_count": 58,
   "metadata": {},
   "outputs": [
    {
     "name": "stdout",
     "output_type": "stream",
     "text": [
      "  b_fe    b_re    b_diff\n",
      "------  ------  --------\n",
      "0.6004  0.6912   -0.0909\n",
      "0.0502  0.2476   -0.1974\n",
      "The Hausman test statistic is: 30.82, with p-value: 0.00.\n"
     ]
    }
   ],
   "source": [
    "#HAUSMAN TEST\n",
    "b_re = estimation_RE['b_hat']\n",
    "b_re = b_re[1:]\n",
    "\n",
    "hat_diff = estimation_FE['b_hat'] - b_re\n",
    "\n",
    "cov_re = estimation_RE['cov']\n",
    "cov_re = cov_re[1:,1:]\n",
    "\n",
    "cov_diff = estimation_FE['cov'] - cov_re\n",
    "H = hat_diff.T@np.linalg.inv(cov_diff)@hat_diff\n",
    "\n",
    "p_val = chi2.sf(H.item(), 4)\n",
    "\n",
    "def print_h_test(fe_result, re_result, hat_diff, p_val):\n",
    "    table = []\n",
    "    for i in range(len(hat_diff)):\n",
    "        row = [\n",
    "            fe_result['b_hat'][i], re_result['b_hat'][1:][i], hat_diff[i]\n",
    "        ]\n",
    "        table.append(row)\n",
    "\n",
    "    print(tabulate(\n",
    "        table, headers=['b_fe', 'b_re', 'b_diff'], floatfmt='.4f'\n",
    "        ))\n",
    "    print(f'The Hausman test statistic is: {H.item():.2f}, with p-value: {p_val:.2f}.')\n",
    "print_h_test(estimation_FE, estimation_RE, hat_diff, p_val)"
   ]
  },
  {
   "cell_type": "markdown",
   "metadata": {},
   "source": [
    "We have now tested the H_0, that RE.1-3 and FE.2 holds, but we rejected that hypothesis. This means RE is inconsistent, and we will therefore move on with FE and/or FD."
   ]
  },
  {
   "cell_type": "code",
   "execution_count": 59,
   "metadata": {},
   "outputs": [
    {
     "name": "stdout",
     "output_type": "stream",
     "text": [
      "Exogeneity test\n",
      "Dependent variable: ['ldsa']\n",
      "\n",
      "                Beta      Se    t-values\n",
      "------------  ------  ------  ----------\n",
      "lcap          0.4599  0.0550      8.3615\n",
      "lemp          0.0580  0.0674      0.8617\n",
      "Labor lead    0.0656  0.0702      0.9342\n",
      "Capital lead  0.1552  0.0504      3.0768\n",
      "R² = 0.221\n",
      "σ² = 0.013\n"
     ]
    }
   ],
   "source": [
    "#Test for exogeneity\n",
    "\n",
    "def exogeneity_test(x, y, T):\n",
    "    # Create lead\n",
    "    F_T = np.eye(T, k=1)\n",
    "    F_T = F_T[:-1]\n",
    "\n",
    "    # Lead firm with capital and labor\n",
    "    labor_lead = lm.perm(F_T, x[:, 2].reshape(-1, 1))\n",
    "    capital_lead = lm.perm(F_T, x[:, 1].reshape(-1, 1))\n",
    "    \n",
    "    # Collect variables to test for exogeneity\n",
    "    x_exo = np.delete(x, np.s_[2::3], axis=0)\n",
    "    x_exo = np.hstack((x_exo, labor_lead))\n",
    "    x_exo = np.hstack((x_exo, capital_lead))\n",
    "    y_exo = np.delete(y, np.s_[2::3], axis=0)\n",
    "\n",
    "    # Within transform the data\n",
    "    Q_T = fd_matrix(T - 1)\n",
    "\n",
    "    yw_exo = lm.perm(Q_T, y_exo)\n",
    "    xw_exo = lm.perm(Q_T, x_exo)\n",
    "    xw_exo = xw_exo[:, 1:]\n",
    "\n",
    "    label_exo = xlbl[1:] + ['Labor lead'] + [\"Capital lead\"]\n",
    "    n = y.size/T\n",
    "    # Estimate model\n",
    "    exo_test = lm.estimate(\n",
    "        yw_exo, xw_exo, T=T - 1, transform='fd'\n",
    "    )\n",
    "\n",
    "    lm.print_table(\n",
    "        (ylbl, label_exo), \n",
    "        exo_test, title='Exogeneity test', floatfmt='.4f'\n",
    "    )\n",
    "    return exo_test\n",
    "exo_test = exogeneity_test(X, y, T)"
   ]
  },
  {
   "cell_type": "code",
   "execution_count": 60,
   "metadata": {
    "scrolled": true
   },
   "outputs": [
    {
     "name": "stdout",
     "output_type": "stream",
     "text": [
      "Wald test statistic:  11.19052719082933\n",
      "p-value:  0.0037154198387742143\n"
     ]
    }
   ],
   "source": [
    "#WALD TEST for exogeneity\n",
    "#Test whether the values of beta for Labor lead and Capital lead are 0.\n",
    "#H_0=B_3=B_4=0\n",
    "#H_A=B_3!=B_4!=0\n",
    "\n",
    "\n",
    "C = np.array([[0,0,1,0], [0,0,0,1]])\n",
    "cov_m = exo_test[\"cov\"]\n",
    "betas = exo_test[\"b_hat\"]\n",
    "wald = (C @ betas).T @ np.linalg.inv((C @ cov_m @ C.T)) @ (C @ betas)\n",
    "\n",
    "\n",
    "p_value = 1 - scipy.stats.chi2.cdf(wald, 2)\n",
    "print(\"Wald test statistic: \", wald[0][0])\n",
    "print(\"p-value: \", p_value[0][0])\n",
    "#Since below 0,05 (on a 95% confidensinterval), we reject H_0. And we therefore dont have strict exogeneity.\n",
    "#If we look at it with 0,01 (on a 99% confidensinterval), we cannot reject H_0 and can therefore make it plausible that we have strict exogeneity."
   ]
  },
  {
   "cell_type": "code",
   "execution_count": 61,
   "metadata": {},
   "outputs": [
    {
     "name": "stdout",
     "output_type": "stream",
     "text": [
      "Serial Correlation\n",
      "Dependent variable: OLS residual, eᵢₜ\n",
      "\n",
      "          Beta      Se    t-values\n",
      "-----  -------  ------  ----------\n",
      "eᵢₜ₋₁  -0.1849  0.0483     -3.8295\n",
      "R² = 0.032\n",
      "σ² = 0.013\n"
     ]
    }
   ],
   "source": [
    "def serial_corr(y, x, T):\n",
    "    b_hat = lm.est_ols(y, x)\n",
    "    \n",
    "    e = y - x@b_hat\n",
    "    # Create a lag to estimate the error on.\n",
    "    L_T = np.eye(T, k=-1)\n",
    "    L_T = L_T[1:]\n",
    "\n",
    "    e_l = lm.perm(L_T, e)\n",
    "\n",
    "    # We then need to remove the first obs for every person again.\n",
    "    reduced_year = dat[dat[\"year\"] != 1968][\"year\"]\n",
    "    e = e[reduced_year != 1969]\n",
    "    return lm.estimate(e, e_l,T=T-1)\n",
    "corr_result = serial_corr(y_diff, x_diff, T-1)\n",
    "\n",
    "label_ye = 'OLS residual, e\\u1d62\\u209c'\n",
    "label_e = ['e\\u1d62\\u209c\\u208B\\u2081']\n",
    "title = 'Serial Correlation'\n",
    "lm.print_table(\n",
    "    (label_ye, label_e), corr_result, \n",
    "    title='Serial Correlation', floatfmt='.4f'\n",
    ")"
   ]
  }
 ],
 "metadata": {
  "kernelspec": {
   "display_name": "Python 3",
   "language": "python",
   "name": "python3"
  },
  "language_info": {
   "codemirror_mode": {
    "name": "ipython",
    "version": 3
   },
   "file_extension": ".py",
   "mimetype": "text/x-python",
   "name": "python",
   "nbconvert_exporter": "python",
   "pygments_lexer": "ipython3",
   "version": "3.12.1"
  }
 },
 "nbformat": 4,
 "nbformat_minor": 4
}
